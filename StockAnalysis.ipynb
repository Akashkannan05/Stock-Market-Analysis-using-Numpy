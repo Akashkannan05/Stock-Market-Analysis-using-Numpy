{
 "cells": [
  {
   "cell_type": "code",
   "execution_count": null,
   "metadata": {},
   "outputs": [],
   "source": [
    "import numpy as np\n",
    "import pandas as pd\n",
    "import matplotlib.pyplot as plt"
   ]
  },
  {
   "cell_type": "code",
   "execution_count": null,
   "metadata": {},
   "outputs": [],
   "source": [
    "df = pd.read_csv(\"//Users//kpaa//Downloads//<CSV file name>.csv\")\n",
    "\n",
    "df = df.apply(lambda x: x.str.replace(',', '').astype(str) if x.dtype == \"O\" else x)\n",
    "\n",
    "print(df.head())\n",
    "data_array = df.to_numpy()\n",
    "print(\"Shape:\",data_array.dtype)\n",
    "print(data_array[:,0])\n",
    "\n",
    "df.to_csv(\"//Users//kpaa//Downloads//<CSV file name>.csv\", index=False)\n"
   ]
  },
  {
   "cell_type": "code",
   "execution_count": null,
   "metadata": {},
   "outputs": [],
   "source": [
    "\n",
    "df = pd.read_csv(\"//Users//kpaa//Downloads//<2nd csv file>.csv\")\n",
    "\n",
    "df = df.apply(lambda x: x.str.replace(',', '').astype(str) if x.dtype == \"O\" else x)\n",
    "\n",
    "print(df.head())\n",
    "nifity_data_array = df.to_numpy()\n",
    "print(\"Shape:\",nifity_data_array.dtype)\n",
    "print(nifity_data_array[:,0])\n",
    "df.to_csv(\"//Users//kpaa//Downloads//<2nd csv file>.csv\", index=False)"
   ]
  },
  {
   "cell_type": "code",
   "execution_count": null,
   "metadata": {},
   "outputs": [],
   "source": [
    "print(data_array)"
   ]
  },
  {
   "cell_type": "code",
   "execution_count": null,
   "metadata": {},
   "outputs": [],
   "source": [
    "\n",
    "Date=pd.to_datetime(data_array[:,0])\n",
    "print(Date.dtype)\n",
    "Open=data_array[:,2].astype(float)\n",
    "High=data_array[:,3].astype(float)\n",
    "Low=data_array[:,4].astype(float)\n",
    "PrevClose=data_array[:,5].astype(float)\n",
    "Ltp=data_array[:,6].astype(float)\n",
    "Close=data_array[:,7].astype(float)\n",
    "Vwap=data_array[:,8].astype(float)\n",
    "Wh52=data_array[:,9].astype(float)\n",
    "Wl52=data_array[:,10].astype(float)\n",
    "Volume=data_array[:,11].astype(int)\n",
    "Value=data_array[:,12].astype(float)\n",
    "NoOfTrades=data_array[:,13].astype(int)\n"
   ]
  },
  {
   "cell_type": "code",
   "execution_count": null,
   "metadata": {},
   "outputs": [],
   "source": [
    "NOpen=nifity_data_array[:,1]\n",
    "NOpen=NOpen[::-1]\n",
    "NHigh=nifity_data_array[:,2]\n",
    "NHigh=NHigh[::-1]\n",
    "NLow=nifity_data_array[:,3]\n",
    "NLow=NLow[::-1]\n",
    "NClose=nifity_data_array[:,4]\n",
    "NClose=NClose[::-1]\n",
    "Nshares=nifity_data_array[:,5]\n",
    "Nshares=Nshares[::-1]\n",
    "NTurnOver=nifity_data_array[:,6]#in crs\n",
    "NTurnOver=NTurnOver[::-1]\n",
    "print(NOpen[0])\n"
   ]
  },
  {
   "cell_type": "code",
   "execution_count": null,
   "metadata": {},
   "outputs": [],
   "source": [
    "#Compute Stock Returns\n",
    "DailyReturns=(Close-PrevClose)/PrevClose\n",
    "print(DailyReturns)\n",
    "CummulativeReturns=(Close-Close[-1])/Close[-1]\n",
    "print(\"Cummulative Returns:\")\n",
    "print(CummulativeReturns)"
   ]
  },
  {
   "cell_type": "code",
   "execution_count": null,
   "metadata": {},
   "outputs": [],
   "source": [
    "#Simple Moving Average\n",
    "print(\"5 or 10 days for the short term trading\")\n",
    "print(\"50 or 100 days for the mid term investing\")\n",
    "print(\"200 days for the long term investing\")\n",
    "days=int(input(\"Enter the number of days:\"))\n",
    "SMA=(np.sum(Close[:days]))/days\n",
    "print(\"SMA=\",SMA)\n",
    "if(Close[0]>SMA):\n",
    "    print(f\"The stock is in uptrend with SMA of {SMA}\")\n",
    "elif(Close[0]<SMA):\n",
    "    print(f\"The stock is in downtrend with SMA of {SMA}\")\n",
    "else:\n",
    "    print(f\"The stock is stable neither uptrend nor downtrend with SMA of {SMA}\")\n",
    "    \n"
   ]
  },
  {
   "cell_type": "code",
   "execution_count": null,
   "metadata": {},
   "outputs": [],
   "source": [
    "#The Exponential Moving Average (EMA) \n",
    "\n",
    "days=int(input(\"Enter the number of days:\"))\n",
    "Alpha=2/(days+1)\n",
    "price=Close[:days][::-1]\n",
    "print(Date[:days],price)\n",
    "EMA=[price[0]]\n",
    "for i in range(1,days):\n",
    "        EMA.append((price[i]*Alpha)+EMA[-1]*(1-Alpha))\n",
    "print(EMA[-1])\n",
    "\n"
   ]
  },
  {
   "cell_type": "code",
   "execution_count": null,
   "metadata": {},
   "outputs": [],
   "source": [
    "#Stock volatility \n",
    "#StandardDevivationPercentage\n",
    "days=int(input(\"Enter the number of days:\"))\n",
    "mean=np.average(Close[:days])\n",
    "sumOfDeviations=np.sum((Close[:days]-mean)**2)\n",
    "variance=sumOfDeviations/days\n",
    "StandardDevivation=np.sqrt(variance)\n",
    "StandardDevivationPercentage=(StandardDevivation/mean)*100\n",
    "\n",
    "if(StandardDevivationPercentage<3):\n",
    "    print(f\"Safe for long-term investors with SD percentage of {StandardDevivationPercentage}%\")\n",
    "elif(StandardDevivationPercentage>6):\n",
    "    print(f\"Suitable for traders with SD percentage of {StandardDevivationPercentage}%\")\n",
    "else:\n",
    "    print(f\"not too stable, not too volatile with SD percentage of {StandardDevivationPercentage}%\")"
   ]
  },
  {
   "cell_type": "code",
   "execution_count": null,
   "metadata": {},
   "outputs": [],
   "source": [
    "#Stock volality\n",
    "#Average True Range(Commonly 14 days)\n",
    "days=int(input(\"Enter the number of the days:\"))\n",
    "TR=np.empty([days])\n",
    "print(TR)\n",
    "TR[:days]=np.maximum((High[:days]-Low[:days]),(abs(High[:days]-PrevClose[:days])),(abs(Low[:days]-PrevClose[:days])))\n",
    "print(TR)\n",
    "ATR=(np.sum(TR))/days\n",
    "print(\"ATR=\",ATR)\n",
    "print(\"You may set the stop loss price as \",Close[0]-ATR)\n"
   ]
  },
  {
   "cell_type": "code",
   "execution_count": null,
   "metadata": {},
   "outputs": [],
   "source": [
    "# Beta (β) – Market Correlation Measure \n",
    "\n",
    "days=int(input(\"ENter the number of days:\"))\n",
    "StockReturns=np.empty([days])\n",
    "MarketReturns=np.empty([days])\n",
    "StockReturns[:days]=((Close[:days]-PrevClose[:days])/PrevClose[:days])\n",
    "MarketReturns[:days]=((NClose[:days]-NClose[1:days+1])/NClose[1:days+1])\n",
    "AvgStockReturns=np.sum(StockReturns)/days\n",
    "AvgMarketReturns=np.sum(MarketReturns)/days\n",
    "CovArray=np.empty([days])\n",
    "CovArray[:days]=np.multiply((StockReturns[:days]-AvgStockReturns),(MarketReturns[:days]-AvgMarketReturns))\n",
    "\n",
    "Cov=np.sum(CovArray)/days\n",
    "print(Cov)\n",
    "VarArray=np.empty([days])\n",
    "VarArray[:days]=np.square((MarketReturns[:days]-AvgMarketReturns))\n",
    "Var=np.sum(VarArray)/days\n",
    "# Cov=np.cov(StockReturns,MarketReturns)\n",
    "# print(np.average(Cov))\n",
    "# Var=np.var(MarketReturns)\n",
    "# print(Var)\n",
    "Beta=Cov/Var\n",
    "print(\"Beta:\",Beta)\n",
    "if(Beta>1):\n",
    "    print(\"The asset is more volatile than the market.\")\n",
    "elif(Beta<1 and Beta>0):\n",
    "    print(\"The asset is less volatile than the market.\")\n",
    "elif(Beta>0):\n",
    "    print(\"The asset moves similarly to the market.\")\n",
    "else:\n",
    "    print(\"The asset moves in the opposite direction of the market.\")"
   ]
  },
  {
   "cell_type": "code",
   "execution_count": null,
   "metadata": {},
   "outputs": [],
   "source": [
    " # Calculate Trading Volume Trends\n",
    "\n",
    "days=int(input(\"Enter the numebr of days\"))\n",
    "VMA=np.average(Volume[:days])\n",
    "\n",
    "#Want ot check the SMA and VMA for consistencey days\n",
    "VMAComapreArray=np.empty([days])\n",
    "VMAComapreArray[:days]=VMA-Volume[:days]\n",
    "VMACheck=0\n",
    "for i in VMAComapreArray:\n",
    "    if(i>0):\n",
    "        VMACheck+=1\n",
    "VMACheckPercentage=(VMACheck/days)*100\n",
    "\n",
    "SMAComapreArray=np.empty([days])\n",
    "SMAComapreArray[:days]=SMA-Close[:days]\n",
    "SMACheck=0\n",
    "for i in SMAComapreArray:\n",
    "    if(i>0):\n",
    "        SMACheck+=1\n",
    "    \n",
    "SMACheckPercentage=(SMACheck/days)*100\n",
    "\n",
    "if(SMACheckPercentage>75):\n",
    "    if(VMACheckPercentage>80):\n",
    "        print(\"Strong uptrend, buyers in control\")\n",
    "    else:\n",
    "        print(\"Weak uptrend, possible reversal\")\n",
    "else:\n",
    "    if(VMACheckPercentage>70):\n",
    "        print(\"Strong downtrend, sellers dominating\")\n",
    "    else:\n",
    "        print(\"Weak downtrend, possible support level\")\n"
   ]
  },
  {
   "cell_type": "code",
   "execution_count": null,
   "metadata": {},
   "outputs": [],
   "source": [
    "#Find Overbought & Oversold Stocks (RSI Calculation)\n",
    "\n",
    "days=int(input(\"Enter the number of days(14 days):\"))\n",
    "changes=np.empty([days])\n",
    "changes[:days]=Close[:days]-PrevClose[:days]\n",
    "AvgGain=np.average(changes[changes>0])\n",
    "AvgLoss=np.average(abs(changes[changes<0]))\n",
    "RelativeStrength=AvgGain/AvgLoss\n",
    "RSI=100-(100/(1+RelativeStrength))\n",
    "\n",
    "if(RSI>70):\n",
    "    print(f\"Overbought (Possible price drop) with RSI:{RSI}\")\n",
    "elif(RSI<30):\n",
    "    print(f\"Oversold (Possible price rise) with RSI:{RSI}\")\n",
    "else:\n",
    "    print(f\"stable with RSI:{RSI}\")\n"
   ]
  },
  {
   "cell_type": "code",
   "execution_count": null,
   "metadata": {},
   "outputs": [],
   "source": [
    "#Stock Price Prediction (Basic Trend Forecasting)\n",
    "days=int(input(\"Enter the number of days;\"))\n",
    "Dates=np.linspace(1,days,days,dtype=np.float32)\n",
    "price=Close[:days]\n",
    "print(Dates)\n",
    "print(Dates.shape)\n",
    "print(price.shape)\n",
    "m,b=np.polyfit(Dates,price,1)\n",
    "print(m,b)\n",
    "\n",
    "future_days=np.array([days+1,days+2,days+3],dtype=np.float32)\n",
    "predicted_prices=m*future_days+b\n",
    "\n",
    "print(\"The predicted feature prices\")\n",
    "\n",
    "plt.scatter(Dates,price,color=\"blue\",label=\"actual price\")\n",
    "plt.plot(Dates,m*Dates+b,color=\"red\",linestyle='--', label='Regression Line')\n",
    "plt.scatter(future_days, predicted_prices, color='green', label='Predicted Prices')\n",
    "plt.xlabel('Days')\n",
    "plt.ylabel('Stock Price')\n",
    "plt.legend()\n",
    "plt.title('Stock Price Prediction using Linear Regression')\n",
    "plt.show()\n",
    "\n",
    "for day, price in zip(future_days, predicted_prices):\n",
    "    print(f\"Predicted price on day {day}: {price:.2f}\")\n"
   ]
  },
  {
   "cell_type": "code",
   "execution_count": null,
   "metadata": {},
   "outputs": [],
   "source": []
  }
 ],
 "metadata": {
  "kernelspec": {
   "display_name": "Python 3",
   "language": "python",
   "name": "python3"
  },
  "language_info": {
   "codemirror_mode": {
    "name": "ipython",
    "version": 3
   },
   "file_extension": ".py",
   "mimetype": "text/x-python",
   "name": "python",
   "nbconvert_exporter": "python",
   "pygments_lexer": "ipython3",
   "version": "3.10.7"
  }
 },
 "nbformat": 4,
 "nbformat_minor": 2
}
