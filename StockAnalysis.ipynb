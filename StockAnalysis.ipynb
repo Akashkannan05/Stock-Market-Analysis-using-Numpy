{
 "cells": [
  {
   "cell_type": "code",
   "execution_count": null,
   "metadata": {},
   "outputs": [
    {
     "name": "stderr",
     "output_type": "stream",
     "text": [
      "Matplotlib is building the font cache; this may take a moment.\n"
     ]
    }
   ],
   "source": [
    "import numpy as np\n",
    "import pandas as pd\n",
    "import matplotlib.pyplot as plt"
   ]
  },
  {
   "cell_type": "code",
   "execution_count": null,
   "metadata": {},
   "outputs": [
    {
     "name": "stdout",
     "output_type": "stream",
     "text": [
      "         Date  series    OPEN    HIGH     LOW   PREV. CLOSE     ltp   close   \\\n",
      "0  28-Mar-2025      EQ  155.38  156.91  153.37        155.42  153.98  154.24   \n",
      "1  27-Mar-2025      EQ  154.80  156.10  154.20        155.81  155.36  155.42   \n",
      "2  26-Mar-2025      EQ  156.20  157.54  155.01        156.73  155.07  155.81   \n",
      "3  25-Mar-2025      EQ  159.00  159.00  156.05        158.42  156.27  156.73   \n",
      "4  24-Mar-2025      EQ  158.00  159.00  157.11        157.28  158.29  158.42   \n",
      "\n",
      "    vwap   52W H   52W L    VOLUME          VALUE  No of trades   \n",
      "0  154.50   184.6  122.62  24589315  3798935508.26        105656  \n",
      "1  155.47   184.6  122.62  25909068  4028014189.92        136794  \n",
      "2  156.44   184.6  122.62  23182869  3626732598.78        142138  \n",
      "3  157.22   184.6  122.62  28467187  4475745077.22        182282  \n",
      "4  158.42   184.6  122.62  30905773  4895984860.52        154989  \n",
      "Shape: object\n",
      "['28-Mar-2025' '27-Mar-2025' '26-Mar-2025' '25-Mar-2025' '24-Mar-2025'\n",
      " '21-Mar-2025' '20-Mar-2025' '19-Mar-2025' '18-Mar-2025' '17-Mar-2025'\n",
      " '13-Mar-2025' '12-Mar-2025' '11-Mar-2025' '10-Mar-2025' '07-Mar-2025'\n",
      " '06-Mar-2025' '05-Mar-2025' '04-Mar-2025' '03-Mar-2025' '28-Feb-2025'\n",
      " '27-Feb-2025' '25-Feb-2025' '24-Feb-2025' '21-Feb-2025' '20-Feb-2025'\n",
      " '19-Feb-2025' '18-Feb-2025' '17-Feb-2025' '14-Feb-2025' '13-Feb-2025'\n",
      " '12-Feb-2025' '11-Feb-2025' '10-Feb-2025' '07-Feb-2025' '06-Feb-2025'\n",
      " '05-Feb-2025' '04-Feb-2025' '03-Feb-2025' '01-Feb-2025' '31-Jan-2025'\n",
      " '30-Jan-2025' '29-Jan-2025' '28-Jan-2025' '27-Jan-2025' '24-Jan-2025'\n",
      " '23-Jan-2025' '22-Jan-2025' '21-Jan-2025' '20-Jan-2025' '17-Jan-2025'\n",
      " '16-Jan-2025' '15-Jan-2025' '14-Jan-2025' '13-Jan-2025' '10-Jan-2025'\n",
      " '09-Jan-2025' '08-Jan-2025' '07-Jan-2025' '06-Jan-2025' '03-Jan-2025'\n",
      " '02-Jan-2025' '01-Jan-2025' '31-Dec-2024' '30-Dec-2024' '27-Dec-2024'\n",
      " '26-Dec-2024' '24-Dec-2024' '23-Dec-2024' '20-Dec-2024' '19-Dec-2024'\n",
      " '18-Dec-2024' '17-Dec-2024' '16-Dec-2024' '13-Dec-2024' '12-Dec-2024'\n",
      " '11-Dec-2024' '10-Dec-2024' '09-Dec-2024' '06-Dec-2024' '05-Dec-2024'\n",
      " '04-Dec-2024' '03-Dec-2024' '02-Dec-2024' '29-Nov-2024' '28-Nov-2024'\n",
      " '27-Nov-2024' '26-Nov-2024' '25-Nov-2024' '22-Nov-2024' '21-Nov-2024'\n",
      " '19-Nov-2024' '18-Nov-2024' '14-Nov-2024' '13-Nov-2024' '12-Nov-2024'\n",
      " '11-Nov-2024' '08-Nov-2024' '07-Nov-2024' '06-Nov-2024' '05-Nov-2024'\n",
      " '04-Nov-2024' '01-Nov-2024' '31-Oct-2024' '30-Oct-2024' '29-Oct-2024'\n",
      " '28-Oct-2024' '25-Oct-2024' '24-Oct-2024' '23-Oct-2024' '22-Oct-2024'\n",
      " '21-Oct-2024' '18-Oct-2024' '17-Oct-2024' '16-Oct-2024' '15-Oct-2024'\n",
      " '14-Oct-2024' '11-Oct-2024' '10-Oct-2024' '09-Oct-2024' '08-Oct-2024'\n",
      " '07-Oct-2024' '04-Oct-2024' '03-Oct-2024' '01-Oct-2024' '30-Sep-2024']\n"
     ]
    }
   ],
   "source": [
    "df = pd.read_csv(\"//Users//kpaa//Downloads//<CSV file name>.csv\")\n",
    "\n",
    "df = df.apply(lambda x: x.str.replace(',', '').astype(str) if x.dtype == \"O\" else x)\n",
    "\n",
    "print(df.head())\n",
    "data_array = df.to_numpy()\n",
    "print(\"Shape:\",data_array.dtype)\n",
    "print(data_array[:,0])\n",
    "\n",
    "df.to_csv(\"//Users//kpaa//Downloads//<CSV file name>.csv\", index=False)\n"
   ]
  },
  {
   "cell_type": "code",
   "execution_count": null,
   "metadata": {},
   "outputs": [
    {
     "name": "stdout",
     "output_type": "stream",
     "text": [
      "         Date      Open      High       Low     Close   Shares Traded   \\\n",
      "0  30-SEP-2024  26061.30  26134.70  25794.10  25810.85       375370974   \n",
      "1  01-OCT-2024  25788.45  25907.60  25739.20  25796.90       247423786   \n",
      "2  03-OCT-2024  25452.85  25639.45  25230.30  25250.10       423395030   \n",
      "3  04-OCT-2024  25181.90  25485.05  24966.80  25014.60       374914801   \n",
      "4  07-OCT-2024  25084.10  25143.00  24694.35  24795.75       374345795   \n",
      "\n",
      "   Turnover (₹ Cr)  \n",
      "0         36028.06  \n",
      "1         27473.29  \n",
      "2         45689.50  \n",
      "3         42719.71  \n",
      "4         40550.24  \n",
      "Shape: object\n",
      "['30-SEP-2024' '01-OCT-2024' '03-OCT-2024' '04-OCT-2024' '07-OCT-2024'\n",
      " '08-OCT-2024' '09-OCT-2024' '10-OCT-2024' '11-OCT-2024' '14-OCT-2024'\n",
      " '15-OCT-2024' '16-OCT-2024' '17-OCT-2024' '18-OCT-2024' '21-OCT-2024'\n",
      " '22-OCT-2024' '23-OCT-2024' '24-OCT-2024' '25-OCT-2024' '28-OCT-2024'\n",
      " '29-OCT-2024' '30-OCT-2024' '31-OCT-2024' '01-NOV-2024' '04-NOV-2024'\n",
      " '05-NOV-2024' '06-NOV-2024' '07-NOV-2024' '08-NOV-2024' '11-NOV-2024'\n",
      " '12-NOV-2024' '13-NOV-2024' '14-NOV-2024' '18-NOV-2024' '19-NOV-2024'\n",
      " '21-NOV-2024' '22-NOV-2024' '25-NOV-2024' '26-NOV-2024' '27-NOV-2024'\n",
      " '28-NOV-2024' '29-NOV-2024' '02-DEC-2024' '03-DEC-2024' '04-DEC-2024'\n",
      " '05-DEC-2024' '06-DEC-2024' '09-DEC-2024' '10-DEC-2024' '11-DEC-2024'\n",
      " '12-DEC-2024' '13-DEC-2024' '16-DEC-2024' '17-DEC-2024' '18-DEC-2024'\n",
      " '19-DEC-2024' '20-DEC-2024' '23-DEC-2024' '24-DEC-2024' '26-DEC-2024'\n",
      " '27-DEC-2024' '30-DEC-2024' '31-DEC-2024' '01-JAN-2025' '02-JAN-2025'\n",
      " '03-JAN-2025' '06-JAN-2025' '07-JAN-2025' '08-JAN-2025' '09-JAN-2025'\n",
      " '10-JAN-2025' '13-JAN-2025' '14-JAN-2025' '15-JAN-2025' '16-JAN-2025'\n",
      " '17-JAN-2025' '20-JAN-2025' '21-JAN-2025' '22-JAN-2025' '23-JAN-2025'\n",
      " '24-JAN-2025' '27-JAN-2025' '28-JAN-2025' '29-JAN-2025' '30-JAN-2025'\n",
      " '31-JAN-2025' '01-FEB-2025' '03-FEB-2025' '04-FEB-2025' '05-FEB-2025'\n",
      " '06-FEB-2025' '07-FEB-2025' '10-FEB-2025' '11-FEB-2025' '12-FEB-2025'\n",
      " '13-FEB-2025' '14-FEB-2025' '17-FEB-2025' '18-FEB-2025' '19-FEB-2025'\n",
      " '20-FEB-2025' '21-FEB-2025' '24-FEB-2025' '25-FEB-2025' '27-FEB-2025'\n",
      " '28-FEB-2025' '03-MAR-2025' '04-MAR-2025' '05-MAR-2025' '06-MAR-2025'\n",
      " '07-MAR-2025' '10-MAR-2025' '11-MAR-2025' '12-MAR-2025' '13-MAR-2025'\n",
      " '17-MAR-2025' '18-MAR-2025' '19-MAR-2025' '20-MAR-2025' '21-MAR-2025'\n",
      " '24-MAR-2025' '25-MAR-2025' '26-MAR-2025' '27-MAR-2025' '28-MAR-2025']\n"
     ]
    }
   ],
   "source": [
    "\n",
    "df = pd.read_csv(\"//Users//kpaa//Downloads//<2nd csv file>.csv\")\n",
    "\n",
    "df = df.apply(lambda x: x.str.replace(',', '').astype(str) if x.dtype == \"O\" else x)\n",
    "\n",
    "print(df.head())\n",
    "nifity_data_array = df.to_numpy()\n",
    "print(\"Shape:\",nifity_data_array.dtype)\n",
    "print(nifity_data_array[:,0])\n",
    "df.to_csv(\"//Users//kpaa//Downloads//<2nd csv file>.csv\", index=False)"
   ]
  },
  {
   "cell_type": "code",
   "execution_count": null,
   "metadata": {},
   "outputs": [
    {
     "name": "stdout",
     "output_type": "stream",
     "text": [
      "[['28-Mar-2025' 'EQ' 155.38 ... '24589315' '3798935508.26' '105656']\n",
      " ['27-Mar-2025' 'EQ' 154.8 ... '25909068' '4028014189.92' '136794']\n",
      " ['26-Mar-2025' 'EQ' 156.2 ... '23182869' '3626732598.78' '142138']\n",
      " ...\n",
      " ['03-Oct-2024' 'EQ' 165.5 ... '75959797' '12754992195.57' '475585']\n",
      " ['01-Oct-2024' 'EQ' 169.49 ... '50761579' '8483829166.82' '285911']\n",
      " ['30-Sep-2024' 'EQ' 167.5 ... '92381529' '15614600724.62' '440055']]\n"
     ]
    }
   ],
   "source": [
    "print(data_array)"
   ]
  },
  {
   "cell_type": "code",
   "execution_count": null,
   "metadata": {},
   "outputs": [
    {
     "name": "stdout",
     "output_type": "stream",
     "text": [
      "datetime64[ns]\n"
     ]
    }
   ],
   "source": [
    "\n",
    "Date=pd.to_datetime(data_array[:,0])\n",
    "print(Date.dtype)\n",
    "Open=data_array[:,2].astype(float)\n",
    "High=data_array[:,3].astype(float)\n",
    "Low=data_array[:,4].astype(float)\n",
    "PrevClose=data_array[:,5].astype(float)\n",
    "Ltp=data_array[:,6].astype(float)\n",
    "Close=data_array[:,7].astype(float)\n",
    "Vwap=data_array[:,8].astype(float)\n",
    "Wh52=data_array[:,9].astype(float)\n",
    "Wl52=data_array[:,10].astype(float)\n",
    "Volume=data_array[:,11].astype(int)\n",
    "Value=data_array[:,12].astype(float)\n",
    "NoOfTrades=data_array[:,13].astype(int)\n"
   ]
  },
  {
   "cell_type": "code",
   "execution_count": null,
   "metadata": {},
   "outputs": [
    {
     "name": "stdout",
     "output_type": "stream",
     "text": [
      "23600.4\n"
     ]
    }
   ],
   "source": [
    "NOpen=nifity_data_array[:,1]\n",
    "NOpen=NOpen[::-1]\n",
    "NHigh=nifity_data_array[:,2]\n",
    "NHigh=NHigh[::-1]\n",
    "NLow=nifity_data_array[:,3]\n",
    "NLow=NLow[::-1]\n",
    "NClose=nifity_data_array[:,4]\n",
    "NClose=NClose[::-1]\n",
    "Nshares=nifity_data_array[:,5]\n",
    "Nshares=Nshares[::-1]\n",
    "NTurnOver=nifity_data_array[:,6]#in crs\n",
    "NTurnOver=NTurnOver[::-1]\n",
    "print(NOpen[0])\n"
   ]
  },
  {
   "cell_type": "code",
   "execution_count": null,
   "metadata": {},
   "outputs": [
    {
     "name": "stdout",
     "output_type": "stream",
     "text": [
      "[-0.00586997 -0.01066784  0.00724822 -0.0110664   0.00277427  0.02547524\n",
      "  0.01877347  0.00616384  0.00385895 -0.00298507 -0.0019861  -0.003365\n",
      "  0.00744483  0.02970568  0.04851443  0.00555676  0.00998542 -0.01074338\n",
      "  0.01181878 -0.00421359 -0.02209434  0.01970443  0.01679434  0.00906794\n",
      "  0.00186164 -0.00133859 -0.01306422  0.0300121   0.0166782  -0.02931961\n",
      " -0.03087268  0.04353403 -0.01383929  0.00734523  0.01213776 -0.00864857\n",
      " -0.01225672  0.02669311  0.00244648  0.01694915  0.01780486 -0.02597503\n",
      " -0.0048324   0.01124729 -0.00601388 -0.01488683  0.01059257  0.01932556\n",
      "  0.01011618 -0.00315134  0.03253884 -0.03531351 -0.01924113 -0.02043124\n",
      " -0.00554806  0.00907853 -0.04466609  0.00130265  0.01053093 -0.00948932\n",
      "  0.00854763 -0.01461378 -0.01033058 -0.00014247 -0.00938536  0.00732158\n",
      " -0.01800921 -0.0083068  -0.00837452 -0.01427701 -0.00778785 -0.01213689\n",
      "  0.00119522  0.00186269  0.00293568  0.01072223  0.00829537  0.00836476\n",
      " -0.00470861  0.00088792  0.0129376   0.00802009 -0.00788764  0.00041531\n",
      "  0.00556832  0.00623337  0.01825702  0.00544959 -0.01239289  0.02340919\n",
      " -0.00855069 -0.03468128 -0.0057927  -0.0173477  -0.02239152 -0.01738055\n",
      "  0.00873334  0.03633889 -0.01869783  0.00801023 -0.00275223 -0.00726376\n",
      "  0.00455215  0.02413273 -0.02094241  0.00134427 -0.0107055  -0.02992969\n",
      " -0.00231675  0.01961942 -0.01829425 -0.00250594 -0.0169909  -0.01456492\n",
      "  0.0058853   0.00414938 -0.00288365 -0.02944755 -0.01433283 -0.00137741\n",
      " -0.00029935 -0.0090181   0.01200841  0.00567599  0.024434  ]\n",
      "Cummulative Returns:\n",
      "[-0.05917517 -0.05361995 -0.04341525 -0.05029889 -0.03967152 -0.04232836\n",
      " -0.0661192  -0.0833283  -0.0889439  -0.09244611 -0.08972888 -0.0879174\n",
      " -0.08483787 -0.09160075 -0.1178069  -0.15862569 -0.16327516 -0.17154761\n",
      " -0.16255057 -0.17233259 -0.16883038 -0.15005133 -0.16647545 -0.18024274\n",
      " -0.18760944 -0.18911901 -0.18803212 -0.17728398 -0.20125596 -0.21435904\n",
      " -0.19062859 -0.16484512 -0.19968601 -0.1884548  -0.19437232 -0.20403357\n",
      " -0.19708955 -0.18712638 -0.20826037 -0.21019262 -0.22335608 -0.23694221\n",
      " -0.2165932  -0.21278908 -0.22154459 -0.21683473 -0.2049997  -0.21333253\n",
      " -0.22824709 -0.23597609 -0.23356078 -0.25771391 -0.23054163 -0.21544593\n",
      " -0.19908218 -0.19461385 -0.20185979 -0.1645432  -0.16563009 -0.17432522\n",
      " -0.16641507 -0.17347986 -0.16122215 -0.15246664 -0.15234587 -0.14431496\n",
      " -0.15053439 -0.13495562 -0.12770968 -0.12034297 -0.1076022  -0.10059779\n",
      " -0.08954773 -0.09063462 -0.09232534 -0.09498219 -0.10458306 -0.11194976\n",
      " -0.11931647 -0.11515005 -0.11593503 -0.12722662 -0.13417064 -0.127287\n",
      " -0.1276493  -0.13247992 -0.13785399 -0.153312   -0.15790109 -0.1473341\n",
      " -0.16683775 -0.15965219 -0.12946078 -0.12438862 -0.10893062 -0.08852122\n",
      " -0.07239901 -0.08042993 -0.11267436 -0.09576716 -0.10295272 -0.10047702\n",
      " -0.0938953  -0.09800133 -0.11925608 -0.10041664 -0.1016243  -0.09190266\n",
      " -0.06388503 -0.06171125 -0.07976571 -0.06261699 -0.06026206 -0.04401908\n",
      " -0.0298895  -0.03556549 -0.03955075 -0.03677314 -0.00754785  0.00688364\n",
      "  0.00827245  0.00857436  0.01775255  0.00567599  0.        ]\n"
     ]
    }
   ],
   "source": [
    "#Compute Stock Returns\n",
    "DailyReturns=(Close-PrevClose)/PrevClose\n",
    "print(DailyReturns)\n",
    "CummulativeReturns=(Close-Close[-1])/Close[-1]\n",
    "print(\"Cummulative Returns:\")\n",
    "print(CummulativeReturns)"
   ]
  },
  {
   "cell_type": "code",
   "execution_count": null,
   "metadata": {},
   "outputs": [
    {
     "name": "stdout",
     "output_type": "stream",
     "text": [
      "5 or 10 days for the short term trading\n",
      "50 or 100 days for the mid term investing\n",
      "200 days for the long term investing\n",
      "SMA= 140.5562\n",
      "The stock is in uptrend with SMA of 140.5562\n"
     ]
    }
   ],
   "source": [
    "#Simple Moving Average\n",
    "print(\"5 or 10 days for the short term trading\")\n",
    "print(\"50 or 100 days for the mid term investing\")\n",
    "print(\"200 days for the long term investing\")\n",
    "days=int(input(\"Enter the number of days:\"))\n",
    "SMA=(np.sum(Close[:days]))/days\n",
    "print(\"SMA=\",SMA)\n",
    "if(Close[0]>SMA):\n",
    "    print(f\"The stock is in uptrend with SMA of {SMA}\")\n",
    "elif(Close[0]<SMA):\n",
    "    print(f\"The stock is in downtrend with SMA of {SMA}\")\n",
    "else:\n",
    "    print(f\"The stock is stable neither uptrend nor downtrend with SMA of {SMA}\")\n",
    "    \n"
   ]
  },
  {
   "cell_type": "code",
   "execution_count": null,
   "metadata": {},
   "outputs": [
    {
     "name": "stdout",
     "output_type": "stream",
     "text": [
      "DatetimeIndex(['2025-03-28', '2025-03-27', '2025-03-26', '2025-03-25',\n",
      "               '2025-03-24', '2025-03-21', '2025-03-20', '2025-03-19',\n",
      "               '2025-03-18', '2025-03-17', '2025-03-13', '2025-03-12',\n",
      "               '2025-03-11', '2025-03-10', '2025-03-07'],\n",
      "              dtype='datetime64[ns]', freq=None) [151.56 151.05 150.75 150.3  150.88 151.81 154.66 158.6  159.04 157.28\n",
      " 158.42 156.73 155.81 155.42 154.24]\n",
      "154.84373814063724\n"
     ]
    }
   ],
   "source": [
    "#The Exponential Moving Average (EMA) \n",
    "\n",
    "days=int(input(\"Enter the number of days:\"))\n",
    "Alpha=2/(days+1)\n",
    "price=Close[:days][::-1]\n",
    "print(Date[:days],price)\n",
    "EMA=[price[0]]\n",
    "for i in range(1,days):\n",
    "        EMA.append((price[i]*Alpha)+EMA[-1]*(1-Alpha))\n",
    "print(EMA[-1])\n",
    "\n"
   ]
  },
  {
   "cell_type": "code",
   "execution_count": null,
   "metadata": {},
   "outputs": [
    {
     "name": "stdout",
     "output_type": "stream",
     "text": [
      "Suitable for traders with SD percentage of 6.154174375399485%\n"
     ]
    }
   ],
   "source": [
    "#Stock volatility \n",
    "#StandardDevivationPercentage\n",
    "days=int(input(\"Enter the number of days:\"))\n",
    "mean=np.average(Close[:days])\n",
    "sumOfDeviations=np.sum((Close[:days]-mean)**2)\n",
    "variance=sumOfDeviations/days\n",
    "StandardDevivation=np.sqrt(variance)\n",
    "StandardDevivationPercentage=(StandardDevivation/mean)*100\n",
    "\n",
    "if(StandardDevivationPercentage<3):\n",
    "    print(f\"Safe for long-term investors with SD percentage of {StandardDevivationPercentage}%\")\n",
    "elif(StandardDevivationPercentage>6):\n",
    "    print(f\"Suitable for traders with SD percentage of {StandardDevivationPercentage}%\")\n",
    "else:\n",
    "    print(f\"not too stable, not too volatile with SD percentage of {StandardDevivationPercentage}%\")"
   ]
  },
  {
   "cell_type": "code",
   "execution_count": null,
   "metadata": {},
   "outputs": [
    {
     "name": "stdout",
     "output_type": "stream",
     "text": [
      "[2.53 2.95 1.89 2.93 3.45 4.54 3.02 1.76 3.54 4.58 3.7  3.83 3.18 6.1 ]\n",
      "[2.53 2.95 1.89 2.93 3.45 4.54 3.02 1.76 3.54 4.58 3.7  3.83 3.18 6.1 ]\n",
      "ATR= 3.4285714285714244\n",
      "You may set the stop loss price as  152.3814285714286\n"
     ]
    }
   ],
   "source": [
    "#Stock volality\n",
    "#Average True Range(Commonly 14 days)\n",
    "days=int(input(\"Enter the number of the days:\"))\n",
    "TR=np.empty([days])\n",
    "print(TR)\n",
    "TR[:days]=np.maximum((High[:days]-Low[:days]),(abs(High[:days]-PrevClose[:days])),(abs(Low[:days]-PrevClose[:days])))\n",
    "print(TR)\n",
    "ATR=(np.sum(TR))/days\n",
    "print(\"ATR=\",ATR)\n",
    "print(\"You may set the stop loss price as \",Close[0]-ATR)\n"
   ]
  },
  {
   "cell_type": "code",
   "execution_count": null,
   "metadata": {},
   "outputs": [
    {
     "name": "stdout",
     "output_type": "stream",
     "text": [
      "6.990550159421442e-05\n",
      "Beta: 1.2934340235492854\n",
      "The asset is more volatile than the market.\n"
     ]
    }
   ],
   "source": [
    "# Beta (β) – Market Correlation Measure \n",
    "\n",
    "days=int(input(\"ENter the number of days:\"))\n",
    "StockReturns=np.empty([days])\n",
    "MarketReturns=np.empty([days])\n",
    "StockReturns[:days]=((Close[:days]-PrevClose[:days])/PrevClose[:days])\n",
    "MarketReturns[:days]=((NClose[:days]-NClose[1:days+1])/NClose[1:days+1])\n",
    "AvgStockReturns=np.sum(StockReturns)/days\n",
    "AvgMarketReturns=np.sum(MarketReturns)/days\n",
    "CovArray=np.empty([days])\n",
    "CovArray[:days]=np.multiply((StockReturns[:days]-AvgStockReturns),(MarketReturns[:days]-AvgMarketReturns))\n",
    "\n",
    "Cov=np.sum(CovArray)/days\n",
    "print(Cov)\n",
    "VarArray=np.empty([days])\n",
    "VarArray[:days]=np.square((MarketReturns[:days]-AvgMarketReturns))\n",
    "Var=np.sum(VarArray)/days\n",
    "# Cov=np.cov(StockReturns,MarketReturns)\n",
    "# print(np.average(Cov))\n",
    "# Var=np.var(MarketReturns)\n",
    "# print(Var)\n",
    "Beta=Cov/Var\n",
    "print(\"Beta:\",Beta)\n",
    "if(Beta>1):\n",
    "    print(\"The asset is more volatile than the market.\")\n",
    "elif(Beta<1 and Beta>0):\n",
    "    print(\"The asset is less volatile than the market.\")\n",
    "elif(Beta>0):\n",
    "    print(\"The asset moves similarly to the market.\")\n",
    "else:\n",
    "    print(\"The asset moves in the opposite direction of the market.\")"
   ]
  },
  {
   "cell_type": "code",
   "execution_count": null,
   "metadata": {},
   "outputs": [
    {
     "name": "stdout",
     "output_type": "stream",
     "text": [
      "⚠️Weak downtrend, possible support level\n"
     ]
    }
   ],
   "source": [
    " # Calculate Trading Volume Trends\n",
    "\n",
    "days=int(input(\"Enter the numebr of days\"))\n",
    "VMA=np.average(Volume[:days])\n",
    "\n",
    "#Want ot check the SMA and VMA for consistencey days\n",
    "VMAComapreArray=np.empty([days])\n",
    "VMAComapreArray[:days]=VMA-Volume[:days]\n",
    "VMACheck=0\n",
    "for i in VMAComapreArray:\n",
    "    if(i>0):\n",
    "        VMACheck+=1\n",
    "VMACheckPercentage=(VMACheck/days)*100\n",
    "\n",
    "SMAComapreArray=np.empty([days])\n",
    "SMAComapreArray[:days]=SMA-Close[:days]\n",
    "SMACheck=0\n",
    "for i in SMAComapreArray:\n",
    "    if(i>0):\n",
    "        SMACheck+=1\n",
    "    \n",
    "SMACheckPercentage=(SMACheck/days)*100\n",
    "\n",
    "if(SMACheckPercentage>75):\n",
    "    if(VMACheckPercentage>80):\n",
    "        print(\"Strong uptrend, buyers in control\")\n",
    "    else:\n",
    "        print(\"Weak uptrend, possible reversal\")\n",
    "else:\n",
    "    if(VMACheckPercentage>70):\n",
    "        print(\"Strong downtrend, sellers dominating\")\n",
    "    else:\n",
    "        print(\"Weak downtrend, possible support level\")\n"
   ]
  },
  {
   "cell_type": "code",
   "execution_count": null,
   "metadata": {},
   "outputs": [
    {
     "name": "stdout",
     "output_type": "stream",
     "text": [
      "stable with RSI:64.65968586387439\n"
     ]
    }
   ],
   "source": [
    "#Find Overbought & Oversold Stocks (RSI Calculation)\n",
    "\n",
    "days=int(input(\"Enter the number of days(14 days):\"))\n",
    "changes=np.empty([days])\n",
    "changes[:days]=Close[:days]-PrevClose[:days]\n",
    "AvgGain=np.average(changes[changes>0])\n",
    "AvgLoss=np.average(abs(changes[changes<0]))\n",
    "RelativeStrength=AvgGain/AvgLoss\n",
    "RSI=100-(100/(1+RelativeStrength))\n",
    "\n",
    "if(RSI>70):\n",
    "    print(f\"Overbought (Possible price drop) with RSI:{RSI}\")\n",
    "elif(RSI<30):\n",
    "    print(f\"Oversold (Possible price rise) with RSI:{RSI}\")\n",
    "else:\n",
    "    print(f\"stable with RSI:{RSI}\")\n"
   ]
  },
  {
   "cell_type": "code",
   "execution_count": null,
   "metadata": {},
   "outputs": [
    {
     "name": "stdout",
     "output_type": "stream",
     "text": [
      "[ 1.  2.  3.  4.  5.  6.  7.  8.  9. 10. 11. 12. 13. 14. 15.]\n",
      "(15,)\n",
      "(15,)\n",
      "-0.4783571428571433 158.2635238095239\n",
      "The predicted feature prices\n"
     ]
    },
    {
     "data": {
      "image/png": "[encoded data removed]",
      "text/plain": [
       "<Figure size 640x480 with 1 Axes>"
      ]
     },
     "metadata": {},
     "output_type": "display_data"
    },
    {
     "name": "stdout",
     "output_type": "stream",
     "text": [
      "Predicted price on day 16.0: 150.61\n",
      "Predicted price on day 17.0: 150.13\n",
      "Predicted price on day 18.0: 149.65\n"
     ]
    }
   ],
   "source": [
    "#Stock Price Prediction (Basic Trend Forecasting)\n",
    "days=int(input(\"Enter the number of days;\"))\n",
    "Dates=np.linspace(1,days,days,dtype=np.float32)\n",
    "price=Close[:days]\n",
    "print(Dates)\n",
    "print(Dates.shape)\n",
    "print(price.shape)\n",
    "m,b=np.polyfit(Dates,price,1)\n",
    "print(m,b)\n",
    "\n",
    "future_days=np.array([days+1,days+2,days+3],dtype=np.float32)\n",
    "predicted_prices=m*future_days+b\n",
    "\n",
    "print(\"The predicted feature prices\")\n",
    "\n",
    "plt.scatter(Dates,price,color=\"blue\",label=\"actual price\")\n",
    "plt.plot(Dates,m*Dates+b,color=\"red\",linestyle='--', label='Regression Line')\n",
    "plt.scatter(future_days, predicted_prices, color='green', label='Predicted Prices')\n",
    "plt.xlabel('Days')\n",
    "plt.ylabel('Stock Price')\n",
    "plt.legend()\n",
    "plt.title('Stock Price Prediction using Linear Regression')\n",
    "plt.show()\n",
    "\n",
    "for day, price in zip(future_days, predicted_prices):\n",
    "    print(f\"Predicted price on day {day}: {price:.2f}\")\n"
   ]
  },
  {
   "cell_type": "code",
   "execution_count": null,
   "metadata": {},
   "outputs": [],
   "source": []
  }
 ],
 "metadata": {
  "kernelspec": {
   "display_name": "Python 3",
   "language": "python",
   "name": "python3"
  },
  "language_info": {
   "codemirror_mode": {
    "name": "ipython",
    "version": 3
   },
   "file_extension": ".py",
   "mimetype": "text/x-python",
   "name": "python",
   "nbconvert_exporter": "python",
   "pygments_lexer": "ipython3",
   "version": "3.10.7"
  }
 },
 "nbformat": 4,
 "nbformat_minor": 2
}
